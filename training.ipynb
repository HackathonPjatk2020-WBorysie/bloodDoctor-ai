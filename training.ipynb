{
 "cells": [
  {
   "cell_type": "code",
   "execution_count": 26,
   "metadata": {},
   "outputs": [],
   "source": [
    "import pandas as pd\n",
    "import numpy as np\n",
    "import matplotlib.pyplot as plt\n",
    "import cv2\n",
    "\n",
    "import glob\n",
    "import os\n",
    "import warnings\n",
    "\n",
    "import keras\n",
    "\n",
    "warnings.filterwarnings(\"ignore\")"
   ]
  },
  {
   "cell_type": "code",
   "execution_count": 13,
   "metadata": {},
   "outputs": [
    {
     "data": {
      "text/plain": [
       "120"
      ]
     },
     "execution_count": 13,
     "metadata": {},
     "output_type": "execute_result"
    }
   ],
   "source": [
    "\n",
    "train_fruit_img = []\n",
    "train_label = []\n",
    "\n",
    "for dir_path in glob.glob(\"data/Training/*\"):\n",
    "    img_label = dir_path.split(\"/\")[-1]\n",
    "    for img_path in glob.glob(os.path.join(dir_path, \"*.jpg\")):\n",
    "        img = cv2.imread(img_path)\n",
    "        img = cv2.resize(img, (64, 64))\n",
    "        img = cv2.cvtColor(img, cv2.COLOR_BGR2RGB)\n",
    "        train_fruit_img.append(img)\n",
    "        train_label.append(img_label)\n",
    "        \n",
    "train_fruit_img = np.array(train_fruit_img)\n",
    "train_label = np.array(train_label)\n",
    "len(np.unique(train_label))"
   ]
  },
  {
   "cell_type": "code",
   "execution_count": 16,
   "metadata": {},
   "outputs": [
    {
     "data": {
      "text/plain": [
       "(60498, 64, 64, 3)"
      ]
     },
     "execution_count": 16,
     "metadata": {},
     "output_type": "execute_result"
    }
   ],
   "source": [
    "train_fruit_img.shape"
   ]
  },
  {
   "cell_type": "code",
   "execution_count": 15,
   "metadata": {},
   "outputs": [
    {
     "data": {
      "text/plain": [
       "120"
      ]
     },
     "execution_count": 15,
     "metadata": {},
     "output_type": "execute_result"
    }
   ],
   "source": [
    "\n",
    "test_fruit_img = []\n",
    "test_label = []\n",
    "\n",
    "for dir_path in glob.glob(\"data/Test/*\"):\n",
    "    img_label = dir_path.split(\"/\")[-1]\n",
    "    for img_path in glob.glob(os.path.join(dir_path, \"*.jpg\")):\n",
    "        img = cv2.imread(img_path)\n",
    "        img = cv2.resize(img, (64, 64))\n",
    "        img = cv2.cvtColor(img, cv2.COLOR_BGR2RGB)\n",
    "        test_fruit_img.append(img)\n",
    "        test_label.append(img_label)\n",
    "        \n",
    "test_fruit_img = np.array(test_fruit_img)\n",
    "test_label = np.array(test_label)\n",
    "len(np.unique(test_label))"
   ]
  },
  {
   "cell_type": "code",
   "execution_count": 17,
   "metadata": {},
   "outputs": [
    {
     "data": {
      "text/plain": [
       "(20622, 64, 64, 3)"
      ]
     },
     "execution_count": 17,
     "metadata": {},
     "output_type": "execute_result"
    }
   ],
   "source": [
    "test_fruit_img.shape"
   ]
  },
  {
   "cell_type": "code",
   "execution_count": 18,
   "metadata": {},
   "outputs": [],
   "source": [
    "label_to_id = {v : k for k, v in enumerate(np.unique(train_label))}\n",
    "id_to_label = {v : k for k, v in label_to_id.items()}"
   ]
  },
  {
   "cell_type": "code",
   "execution_count": 19,
   "metadata": {},
   "outputs": [
    {
     "data": {
      "text/plain": [
       "{0: 'Apple Braeburn',\n",
       " 1: 'Apple Crimson Snow',\n",
       " 2: 'Apple Golden 1',\n",
       " 3: 'Apple Golden 2',\n",
       " 4: 'Apple Golden 3',\n",
       " 5: 'Apple Granny Smith',\n",
       " 6: 'Apple Pink Lady',\n",
       " 7: 'Apple Red 1',\n",
       " 8: 'Apple Red 2',\n",
       " 9: 'Apple Red 3',\n",
       " 10: 'Apple Red Delicious',\n",
       " 11: 'Apple Red Yellow 1',\n",
       " 12: 'Apple Red Yellow 2',\n",
       " 13: 'Apricot',\n",
       " 14: 'Avocado',\n",
       " 15: 'Avocado ripe',\n",
       " 16: 'Banana',\n",
       " 17: 'Banana Lady Finger',\n",
       " 18: 'Banana Red',\n",
       " 19: 'Beetroot',\n",
       " 20: 'Blueberry',\n",
       " 21: 'Cactus fruit',\n",
       " 22: 'Cantaloupe 1',\n",
       " 23: 'Cantaloupe 2',\n",
       " 24: 'Carambula',\n",
       " 25: 'Cauliflower',\n",
       " 26: 'Cherry 1',\n",
       " 27: 'Cherry 2',\n",
       " 28: 'Cherry Rainier',\n",
       " 29: 'Cherry Wax Black',\n",
       " 30: 'Cherry Wax Red',\n",
       " 31: 'Cherry Wax Yellow',\n",
       " 32: 'Chestnut',\n",
       " 33: 'Clementine',\n",
       " 34: 'Cocos',\n",
       " 35: 'Dates',\n",
       " 36: 'Eggplant',\n",
       " 37: 'Ginger Root',\n",
       " 38: 'Granadilla',\n",
       " 39: 'Grape Blue',\n",
       " 40: 'Grape Pink',\n",
       " 41: 'Grape White',\n",
       " 42: 'Grape White 2',\n",
       " 43: 'Grape White 3',\n",
       " 44: 'Grape White 4',\n",
       " 45: 'Grapefruit Pink',\n",
       " 46: 'Grapefruit White',\n",
       " 47: 'Guava',\n",
       " 48: 'Hazelnut',\n",
       " 49: 'Huckleberry',\n",
       " 50: 'Kaki',\n",
       " 51: 'Kiwi',\n",
       " 52: 'Kohlrabi',\n",
       " 53: 'Kumquats',\n",
       " 54: 'Lemon',\n",
       " 55: 'Lemon Meyer',\n",
       " 56: 'Limes',\n",
       " 57: 'Lychee',\n",
       " 58: 'Mandarine',\n",
       " 59: 'Mango',\n",
       " 60: 'Mango Red',\n",
       " 61: 'Mangostan',\n",
       " 62: 'Maracuja',\n",
       " 63: 'Melon Piel de Sapo',\n",
       " 64: 'Mulberry',\n",
       " 65: 'Nectarine',\n",
       " 66: 'Nectarine Flat',\n",
       " 67: 'Nut Forest',\n",
       " 68: 'Nut Pecan',\n",
       " 69: 'Onion Red',\n",
       " 70: 'Onion Red Peeled',\n",
       " 71: 'Onion White',\n",
       " 72: 'Orange',\n",
       " 73: 'Papaya',\n",
       " 74: 'Passion Fruit',\n",
       " 75: 'Peach',\n",
       " 76: 'Peach 2',\n",
       " 77: 'Peach Flat',\n",
       " 78: 'Pear',\n",
       " 79: 'Pear Abate',\n",
       " 80: 'Pear Forelle',\n",
       " 81: 'Pear Kaiser',\n",
       " 82: 'Pear Monster',\n",
       " 83: 'Pear Red',\n",
       " 84: 'Pear Williams',\n",
       " 85: 'Pepino',\n",
       " 86: 'Pepper Green',\n",
       " 87: 'Pepper Red',\n",
       " 88: 'Pepper Yellow',\n",
       " 89: 'Physalis',\n",
       " 90: 'Physalis with Husk',\n",
       " 91: 'Pineapple',\n",
       " 92: 'Pineapple Mini',\n",
       " 93: 'Pitahaya Red',\n",
       " 94: 'Plum',\n",
       " 95: 'Plum 2',\n",
       " 96: 'Plum 3',\n",
       " 97: 'Pomegranate',\n",
       " 98: 'Pomelo Sweetie',\n",
       " 99: 'Potato Red',\n",
       " 100: 'Potato Red Washed',\n",
       " 101: 'Potato Sweet',\n",
       " 102: 'Potato White',\n",
       " 103: 'Quince',\n",
       " 104: 'Rambutan',\n",
       " 105: 'Raspberry',\n",
       " 106: 'Redcurrant',\n",
       " 107: 'Salak',\n",
       " 108: 'Strawberry',\n",
       " 109: 'Strawberry Wedge',\n",
       " 110: 'Tamarillo',\n",
       " 111: 'Tangelo',\n",
       " 112: 'Tomato 1',\n",
       " 113: 'Tomato 2',\n",
       " 114: 'Tomato 3',\n",
       " 115: 'Tomato 4',\n",
       " 116: 'Tomato Cherry Red',\n",
       " 117: 'Tomato Maroon',\n",
       " 118: 'Tomato Yellow',\n",
       " 119: 'Walnut'}"
      ]
     },
     "execution_count": 19,
     "metadata": {},
     "output_type": "execute_result"
    }
   ],
   "source": [
    "id_to_label"
   ]
  },
  {
   "cell_type": "code",
   "execution_count": 33,
   "metadata": {},
   "outputs": [
    {
     "data": {
      "text/plain": [
       "(20622,)"
      ]
     },
     "execution_count": 33,
     "metadata": {},
     "output_type": "execute_result"
    }
   ],
   "source": [
    "train_label_id = np.array([label_to_id[i] for i in training_label])\n",
    "test_label_id = np.array([label_to_id[i] for i in test_label])\n",
    "test_label_id.shape"
   ]
  },
  {
   "cell_type": "code",
   "execution_count": null,
   "metadata": {},
   "outputs": [],
   "source": [
    "train_fruit_img, test_fruit_img = training_fruit_img / 255.0, test_fruit_img / 255.0 \n",
    "plt.imshow(training_fruit_img[0])"
   ]
  },
  {
   "cell_type": "code",
   "execution_count": 27,
   "metadata": {},
   "outputs": [
    {
     "name": "stdout",
     "output_type": "stream",
     "text": [
      "WARNING:tensorflow:From /home/wjmaj/anaconda3/lib/python3.7/site-packages/keras/backend/tensorflow_backend.py:4070: The name tf.nn.max_pool is deprecated. Please use tf.nn.max_pool2d instead.\n",
      "\n"
     ]
    }
   ],
   "source": [
    "model = keras.Sequential()\n",
    "model.add(keras.layers.Conv2D(16, (3, 3), input_shape = (64, 64, 3), padding = \"same\", activation = \"relu\"))\n",
    "model.add(keras.layers.MaxPooling2D(pool_size = (2, 2)))\n",
    "\n",
    "model.add(keras.layers.Conv2D(32, (3, 3), padding = \"same\", activation = \"relu\"))\n",
    "model.add(keras.layers.MaxPooling2D(pool_size = (2, 2)))\n",
    "\n",
    "model.add(keras.layers.Conv2D(32, (3, 3), padding = \"same\", activation = \"relu\"))\n",
    "model.add(keras.layers.MaxPooling2D(pool_size = (2, 2)))\n",
    "\n",
    "model.add(keras.layers.Conv2D(64, (3, 3), padding = \"same\", activation = \"relu\"))\n",
    "model.add(keras.layers.MaxPooling2D(pool_size = (2, 2)))\n",
    "\n",
    "model.add(keras.layers.Flatten())\n",
    "model.add(keras.layers.Dense(256, activation = \"relu\"))\n",
    "model.add(keras.layers.Dense(75, activation = \"softmax\"))"
   ]
  },
  {
   "cell_type": "code",
   "execution_count": 28,
   "metadata": {},
   "outputs": [],
   "source": [
    "model.compile(loss = \"categorical_crossentropy\", optimizer = keras.optimizers.Adam(), metrics = ['accuracy'])"
   ]
  },
  {
   "cell_type": "code",
   "execution_count": 32,
   "metadata": {},
   "outputs": [
    {
     "ename": "ValueError",
     "evalue": "Error when checking target: expected dense_2 to have shape (75,) but got array with shape (1,)",
     "output_type": "error",
     "traceback": [
      "\u001b[0;31m---------------------------------------------------------------------------\u001b[0m",
      "\u001b[0;31mValueError\u001b[0m                                Traceback (most recent call last)",
      "\u001b[0;32m<ipython-input-32-2169b69213e7>\u001b[0m in \u001b[0;36m<module>\u001b[0;34m\u001b[0m\n\u001b[0;32m----> 1\u001b[0;31m \u001b[0mmodel\u001b[0m\u001b[0;34m.\u001b[0m\u001b[0mfit\u001b[0m\u001b[0;34m(\u001b[0m\u001b[0mtrain_fruit_img\u001b[0m\u001b[0;34m,\u001b[0m \u001b[0mtrain_label_id\u001b[0m\u001b[0;34m,\u001b[0m \u001b[0mbatch_size\u001b[0m \u001b[0;34m=\u001b[0m \u001b[0;36m128\u001b[0m\u001b[0;34m,\u001b[0m \u001b[0mepochs\u001b[0m \u001b[0;34m=\u001b[0m \u001b[0;36m10\u001b[0m\u001b[0;34m,\u001b[0m \u001b[0mverbose\u001b[0m\u001b[0;34m=\u001b[0m\u001b[0;32mTrue\u001b[0m\u001b[0;34m)\u001b[0m\u001b[0;34m\u001b[0m\u001b[0;34m\u001b[0m\u001b[0m\n\u001b[0m",
      "\u001b[0;32m~/anaconda3/lib/python3.7/site-packages/keras/engine/training.py\u001b[0m in \u001b[0;36mfit\u001b[0;34m(self, x, y, batch_size, epochs, verbose, callbacks, validation_split, validation_data, shuffle, class_weight, sample_weight, initial_epoch, steps_per_epoch, validation_steps, validation_freq, max_queue_size, workers, use_multiprocessing, **kwargs)\u001b[0m\n\u001b[1;32m   1152\u001b[0m             \u001b[0msample_weight\u001b[0m\u001b[0;34m=\u001b[0m\u001b[0msample_weight\u001b[0m\u001b[0;34m,\u001b[0m\u001b[0;34m\u001b[0m\u001b[0;34m\u001b[0m\u001b[0m\n\u001b[1;32m   1153\u001b[0m             \u001b[0mclass_weight\u001b[0m\u001b[0;34m=\u001b[0m\u001b[0mclass_weight\u001b[0m\u001b[0;34m,\u001b[0m\u001b[0;34m\u001b[0m\u001b[0;34m\u001b[0m\u001b[0m\n\u001b[0;32m-> 1154\u001b[0;31m             batch_size=batch_size)\n\u001b[0m\u001b[1;32m   1155\u001b[0m \u001b[0;34m\u001b[0m\u001b[0m\n\u001b[1;32m   1156\u001b[0m         \u001b[0;31m# Prepare validation data.\u001b[0m\u001b[0;34m\u001b[0m\u001b[0;34m\u001b[0m\u001b[0;34m\u001b[0m\u001b[0m\n",
      "\u001b[0;32m~/anaconda3/lib/python3.7/site-packages/keras/engine/training.py\u001b[0m in \u001b[0;36m_standardize_user_data\u001b[0;34m(self, x, y, sample_weight, class_weight, check_array_lengths, batch_size)\u001b[0m\n\u001b[1;32m    619\u001b[0m                 \u001b[0mfeed_output_shapes\u001b[0m\u001b[0;34m,\u001b[0m\u001b[0;34m\u001b[0m\u001b[0;34m\u001b[0m\u001b[0m\n\u001b[1;32m    620\u001b[0m                 \u001b[0mcheck_batch_axis\u001b[0m\u001b[0;34m=\u001b[0m\u001b[0;32mFalse\u001b[0m\u001b[0;34m,\u001b[0m  \u001b[0;31m# Don't enforce the batch size.\u001b[0m\u001b[0;34m\u001b[0m\u001b[0;34m\u001b[0m\u001b[0m\n\u001b[0;32m--> 621\u001b[0;31m                 exception_prefix='target')\n\u001b[0m\u001b[1;32m    622\u001b[0m \u001b[0;34m\u001b[0m\u001b[0m\n\u001b[1;32m    623\u001b[0m             \u001b[0;31m# Generate sample-wise weight values given the `sample_weight` and\u001b[0m\u001b[0;34m\u001b[0m\u001b[0;34m\u001b[0m\u001b[0;34m\u001b[0m\u001b[0m\n",
      "\u001b[0;32m~/anaconda3/lib/python3.7/site-packages/keras/engine/training_utils.py\u001b[0m in \u001b[0;36mstandardize_input_data\u001b[0;34m(data, names, shapes, check_batch_axis, exception_prefix)\u001b[0m\n\u001b[1;32m    143\u001b[0m                             \u001b[0;34m': expected '\u001b[0m \u001b[0;34m+\u001b[0m \u001b[0mnames\u001b[0m\u001b[0;34m[\u001b[0m\u001b[0mi\u001b[0m\u001b[0;34m]\u001b[0m \u001b[0;34m+\u001b[0m \u001b[0;34m' to have shape '\u001b[0m \u001b[0;34m+\u001b[0m\u001b[0;34m\u001b[0m\u001b[0;34m\u001b[0m\u001b[0m\n\u001b[1;32m    144\u001b[0m                             \u001b[0mstr\u001b[0m\u001b[0;34m(\u001b[0m\u001b[0mshape\u001b[0m\u001b[0;34m)\u001b[0m \u001b[0;34m+\u001b[0m \u001b[0;34m' but got array with shape '\u001b[0m \u001b[0;34m+\u001b[0m\u001b[0;34m\u001b[0m\u001b[0;34m\u001b[0m\u001b[0m\n\u001b[0;32m--> 145\u001b[0;31m                             str(data_shape))\n\u001b[0m\u001b[1;32m    146\u001b[0m     \u001b[0;32mreturn\u001b[0m \u001b[0mdata\u001b[0m\u001b[0;34m\u001b[0m\u001b[0;34m\u001b[0m\u001b[0m\n\u001b[1;32m    147\u001b[0m \u001b[0;34m\u001b[0m\u001b[0m\n",
      "\u001b[0;31mValueError\u001b[0m: Error when checking target: expected dense_2 to have shape (75,) but got array with shape (1,)"
     ]
    }
   ],
   "source": [
    "model.fit(train_fruit_img, train_label_id, batch_size = 128, epochs = 10, verbose=True)"
   ]
  },
  {
   "cell_type": "code",
   "execution_count": null,
   "metadata": {},
   "outputs": [],
   "source": []
  }
 ],
 "metadata": {
  "kernelspec": {
   "display_name": "Python 3",
   "language": "python",
   "name": "python3"
  },
  "language_info": {
   "codemirror_mode": {
    "name": "ipython",
    "version": 3
   },
   "file_extension": ".py",
   "mimetype": "text/x-python",
   "name": "python",
   "nbconvert_exporter": "python",
   "pygments_lexer": "ipython3",
   "version": "3.7.4"
  }
 },
 "nbformat": 4,
 "nbformat_minor": 2
}
